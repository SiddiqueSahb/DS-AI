{
  "nbformat": 4,
  "nbformat_minor": 0,
  "metadata": {
    "colab": {
      "provenance": [],
      "authorship_tag": "ABX9TyOwxjm5h+0lbADKAW7hz0ED",
      "include_colab_link": true
    },
    "kernelspec": {
      "name": "python3",
      "display_name": "Python 3"
    },
    "language_info": {
      "name": "python"
    }
  },
  "cells": [
    {
      "cell_type": "markdown",
      "metadata": {
        "id": "view-in-github",
        "colab_type": "text"
      },
      "source": [
        "<a href=\"https://colab.research.google.com/github/SiddiqueSahb/DS-AI/blob/main/Python.ipynb\" target=\"_parent\"><img src=\"https://colab.research.google.com/assets/colab-badge.svg\" alt=\"Open In Colab\"/></a>"
      ]
    },
    {
      "cell_type": "code",
      "execution_count": null,
      "metadata": {
        "colab": {
          "base_uri": "https://localhost:8080/"
        },
        "id": "Y2ePHjpyMr7y",
        "outputId": "31702ffd-76a5-4828-9051-c079226183fb"
      },
      "outputs": [
        {
          "output_type": "stream",
          "name": "stdout",
          "text": [
            "hello\n"
          ]
        }
      ],
      "source": [
        "print(\"hello\")\n"
      ]
    },
    {
      "cell_type": "markdown",
      "source": [],
      "metadata": {
        "id": "raoCuxkr4abk"
      }
    },
    {
      "cell_type": "markdown",
      "source": [
        "###*Loops * ***RANGE***"
      ],
      "metadata": {
        "id": "dpz1uRCF8Fa3"
      }
    },
    {
      "cell_type": "code",
      "source": [
        "s = \"abcd\"\n",
        "for i in s:\n",
        "  print(i)"
      ],
      "metadata": {
        "id": "nMUey945OeTa",
        "colab": {
          "base_uri": "https://localhost:8080/"
        },
        "outputId": "8f702f1c-8233-4387-f13a-d904a8ed0492"
      },
      "execution_count": null,
      "outputs": [
        {
          "output_type": "stream",
          "name": "stdout",
          "text": [
            "a\n",
            "b\n",
            "c\n",
            "d\n"
          ]
        }
      ]
    },
    {
      "cell_type": "markdown",
      "source": [
        "###Print n natural nos\n",
        "range(start,stop,stride) - syntax\n",
        "start - from start\n",
        "stop - stops one step behind stop\n",
        "stride means - increment by x value\n",
        "Giving all three values to range"
      ],
      "metadata": {
        "id": "qJxPss5Q9JMG"
      }
    },
    {
      "cell_type": "code",
      "source": [
        "n = int(input())\n",
        "for i in range(1,n+1,1):\n",
        "    print(i)"
      ],
      "metadata": {
        "colab": {
          "base_uri": "https://localhost:8080/"
        },
        "id": "n0Dt-UPR9NeV",
        "outputId": "01145ba7-3670-43b9-aece-32c47012a325"
      },
      "execution_count": null,
      "outputs": [
        {
          "output_type": "stream",
          "name": "stdout",
          "text": [
            "5\n",
            "1\n",
            "2\n",
            "3\n",
            "4\n",
            "5\n"
          ]
        }
      ]
    },
    {
      "cell_type": "markdown",
      "source": [
        "Giving only one value to range and it uses it as stop and by default start  = 0 and stride(step) = 1"
      ],
      "metadata": {
        "id": "usUt-rW1-J-I"
      }
    },
    {
      "cell_type": "code",
      "source": [
        "n = int(input())\n",
        "for i in range(n+1):\n",
        "    print(i)"
      ],
      "metadata": {
        "colab": {
          "base_uri": "https://localhost:8080/"
        },
        "id": "ojUA8XnU-YOg",
        "outputId": "db6f146e-5289-49ea-e90e-ad6f3c591e94"
      },
      "execution_count": null,
      "outputs": [
        {
          "output_type": "stream",
          "name": "stdout",
          "text": [
            "5\n",
            "0\n",
            "1\n",
            "2\n",
            "3\n",
            "4\n",
            "5\n"
          ]
        }
      ]
    },
    {
      "cell_type": "markdown",
      "source": [
        "Giving two value to range and it uses it as first as start and second as stop  = 1 and by default stride(step) = 1"
      ],
      "metadata": {
        "id": "MPgXjWej_Naz"
      }
    },
    {
      "cell_type": "code",
      "source": [
        "n = int(input())\n",
        "for i in range(1,n+1):\n",
        "    print(i)"
      ],
      "metadata": {
        "colab": {
          "base_uri": "https://localhost:8080/"
        },
        "id": "6KnkMOcq_THQ",
        "outputId": "5605e5d0-24a5-463d-e0ec-6eefdab0458a"
      },
      "execution_count": null,
      "outputs": [
        {
          "output_type": "stream",
          "name": "stdout",
          "text": [
            "4\n",
            "1\n",
            "2\n",
            "3\n",
            "4\n"
          ]
        }
      ]
    },
    {
      "cell_type": "markdown",
      "source": [
        "#Number from n to 1\n",
        "\n",
        "In decreasing order it will stop one step after.\n",
        "In increasing order it will stop one step before.\n",
        "\n"
      ],
      "metadata": {
        "id": "7lmoLHzB_3_c"
      }
    },
    {
      "cell_type": "code",
      "source": [
        "n = int(input())\n",
        "for i in range(n,0,-1):\n",
        "    print(i)"
      ],
      "metadata": {
        "colab": {
          "base_uri": "https://localhost:8080/"
        },
        "id": "e5LAwvRLAAjC",
        "outputId": "95a37f84-4758-450f-dd39-22d269632ff9"
      },
      "execution_count": null,
      "outputs": [
        {
          "output_type": "stream",
          "name": "stdout",
          "text": [
            "4\n",
            "4\n",
            "3\n",
            "2\n",
            "1\n"
          ]
        }
      ]
    },
    {
      "cell_type": "markdown",
      "source": [
        "**Print multiples of 3**"
      ],
      "metadata": {
        "id": "yMEYYTfDA6HB"
      }
    },
    {
      "cell_type": "code",
      "source": [
        "a = int(input())\n",
        "b = int(input())\n",
        "for i in range(a,b+1,1):\n",
        "  if i % 3 == 0:\n",
        "      print(i)"
      ],
      "metadata": {
        "colab": {
          "base_uri": "https://localhost:8080/"
        },
        "id": "jgfqkJiOA-bw",
        "outputId": "8d8b42d1-64c3-41a8-c30c-c58a4ecaf53b"
      },
      "execution_count": null,
      "outputs": [
        {
          "output_type": "stream",
          "name": "stdout",
          "text": [
            "1\n",
            "10\n",
            "3\n",
            "6\n",
            "9\n"
          ]
        }
      ]
    },
    {
      "cell_type": "markdown",
      "source": [
        "**Check no is prime or not**"
      ],
      "metadata": {
        "id": "tnohJmcdCaDT"
      }
    },
    {
      "cell_type": "code",
      "source": [
        "n = int(input())\n",
        "flag = False\n",
        "for d in range(2,n,1):\n",
        "  if n % d == 0:\n",
        "    flag = True\n",
        "if flag:\n",
        "  print(\"Not prime\")\n",
        "else:\n",
        "  print(\"prime\")"
      ],
      "metadata": {
        "colab": {
          "base_uri": "https://localhost:8080/"
        },
        "id": "SOLwKsMNCiB1",
        "outputId": "7fd07527-9d8a-4361-ac3e-456f86199bb1"
      },
      "execution_count": null,
      "outputs": [
        {
          "output_type": "stream",
          "name": "stdout",
          "text": [
            "7\n",
            "prime\n"
          ]
        }
      ]
    },
    {
      "cell_type": "markdown",
      "source": [
        "**ELSE WITH LOOPS**"
      ],
      "metadata": {
        "id": "3sjSRu_aESmc"
      }
    },
    {
      "cell_type": "code",
      "source": [
        "i = 1\n",
        "while i < 10:\n",
        "  print(i)\n",
        "  i = i+1;\n",
        "  break;\n",
        "# else will not execute if break statment is present\n",
        "else:\n",
        "  print(\"Print end\")\n",
        "\n",
        "print(\"***FOr loop\")\n",
        "#for loop\n",
        "for i in range(1,10):\n",
        "    print(i)\n",
        "else:\n",
        "  print(\"print end\")\n"
      ],
      "metadata": {
        "colab": {
          "base_uri": "https://localhost:8080/"
        },
        "id": "IvRjZs1AEWen",
        "outputId": "3e71513b-01d3-4f3f-8ebd-0fbf96a12443"
      },
      "execution_count": null,
      "outputs": [
        {
          "output_type": "stream",
          "name": "stdout",
          "text": [
            "1\n",
            "***FOr loop\n",
            "1\n",
            "2\n",
            "3\n",
            "4\n",
            "5\n",
            "6\n",
            "7\n",
            "8\n",
            "9\n",
            "print end\n"
          ]
        }
      ]
    },
    {
      "cell_type": "markdown",
      "source": [
        "**Continue** - used when we want to skip iterations"
      ],
      "metadata": {
        "id": "3irwtG1yIu7s"
      }
    },
    {
      "cell_type": "code",
      "source": [
        "n = int(input(\"Enter a number: \"))\n",
        "\n",
        "# loop through the numbers from 1 to n\n",
        "for i in range(1, n + 1):\n",
        "    # check if the number is divisible by 5\n",
        "    if i % 5 == 0:\n",
        "        # skip the current iteration and continue with the next one\n",
        "        continue\n",
        "\n",
        "    # print the number\n",
        "    print(i)"
      ],
      "metadata": {
        "colab": {
          "base_uri": "https://localhost:8080/"
        },
        "id": "BiyC_IXvJrcE",
        "outputId": "3c8ee446-4525-4e48-dad9-9c95e2ea9886"
      },
      "execution_count": null,
      "outputs": [
        {
          "output_type": "stream",
          "name": "stdout",
          "text": [
            "Enter a number: 10\n",
            "1\n",
            "2\n",
            "3\n",
            "4\n",
            "6\n",
            "7\n",
            "8\n",
            "9\n"
          ]
        }
      ]
    },
    {
      "cell_type": "markdown",
      "source": [
        "**STRING LIST & 2D LISTS**"
      ],
      "metadata": {
        "id": "yWKGkXMTLeoM"
      }
    },
    {
      "cell_type": "code",
      "source": [
        "#STRINGS - \"COMBINATION OF CHARACTERS\"\n",
        "#STRING IS IMMUTABLE - i.e WE CANT CHANGE ANYTHING IN A STRING\n",
        "#LIST - [ , , , ] - COLLECTION OF ELEMENTS - ITS LIKE AN ARRAY\n",
        "\n",
        "#this is string\n",
        "st = \"abcd\"\n",
        "\n",
        "#there is no character type in python,it is string on single length\n",
        "st = \"c\"\n",
        "type(st)\n",
        "\n",
        "st[0]\n",
        "\n",
        "\n",
        "#STRING IN BUILT FUNCTION\n",
        "st = \"this is mohammad's \"\n",
        "\n",
        "#STRING CONCATENATION\n",
        "a = \"string 1\"\n",
        "b = \"string 2\"\n",
        "#CREATES NEW STRING BY CONCATENATING\n",
        "c = a+b\n",
        "print(c)\n",
        "\n",
        "#STRING COMPARISON\n",
        "a == b\n",
        "a > b\n",
        "a < b\n",
        "\n",
        "\n",
        "#SPLIT\n",
        "st = \"this is string\"\n",
        "#by default split happens on white space\n",
        "st.split()\n",
        "st.split(\"th\")\n",
        "\n",
        "#replace\n",
        "st.replace(\"is\",\"are\")\n",
        "\n",
        "#find\n",
        "st.find(\"is\")\n",
        "\n",
        "#uppercase and lowercase\n",
        "st.upper()\n",
        "st.lower()\n",
        "\n",
        "#to check upper and lower\n",
        "st.islower()\n",
        "st.isupper()\n",
        "st.isalpha()\n",
        "st.startswith(\"this\")\n",
        "\n",
        "\n",
        "#SLICING\n",
        "st[3:6] #including 3 but not 6 (3,4,5)\n",
        "st[3:] #starting from 3 till end of string\n",
        "st[:4] #from starting till 3\n",
        "st[:]  #from start till end\n",
        "st[2:4:2] #starting from 2 till 9 and 3rd paramter is skip 2 charac\n",
        "st[8:2:-1] #starting from 8 stop at 3 not at 2 and skipping -1\n",
        "\n",
        "\n",
        "#REPLACE  X WITH Y\n",
        "s = input()\n",
        "a = 'x'\n",
        "b = 'y'\n",
        "p = s.find(a)\n",
        "if p !=-1\n",
        "  ans = s[:p] + b + s[p+1:] #going till p-1 and replacing x with y at p and\n",
        "  #concatenating with p+1 to end\n",
        "ans\n",
        "\n",
        "\n"
      ],
      "metadata": {
        "colab": {
          "base_uri": "https://localhost:8080/"
        },
        "id": "4RemYNG8Lma7",
        "outputId": "42a60fd3-0b58-4eda-9588-1939a9ea64b9"
      },
      "execution_count": null,
      "outputs": [
        {
          "output_type": "stream",
          "name": "stdout",
          "text": [
            "string 1string 2\n"
          ]
        },
        {
          "output_type": "execute_result",
          "data": {
            "text/plain": [
              "['', 'is is string']"
            ]
          },
          "metadata": {},
          "execution_count": 2
        }
      ]
    },
    {
      "cell_type": "markdown",
      "source": [
        "**LIST**"
      ],
      "metadata": {
        "id": "RtkOXo8hfpBo"
      }
    },
    {
      "cell_type": "code",
      "source": [
        "#LIST (collection day)can be modified - mutable\n",
        "\n",
        "a = [1,2,3]\n",
        "\n",
        "a = list([1,2,3])\n",
        "\n",
        "a[1] #accessing the list\n",
        "\n",
        "a = [1,2,\"abc\",True]\n",
        "\n",
        "a = [[1,2,3],4,5,\"abc\"]\n",
        "\n",
        "a = [0 for i in range(10)]. # for each iteration add 0 to list\n",
        "\n",
        "a = [i for i in range(10)]. # for each iteration add i to list\n",
        "\n",
        "#FUNCTIONS IN LIST\n",
        "\n",
        "a = [1,2,3,4]\n",
        "len(a) #use for finding length of list\n",
        "\n",
        "b = [5,6,7]\n",
        "\n",
        "a + 3 #doesnt work\n",
        "a + b  #append b to a\n",
        "a * 3  #[1,2,3,4,1,2,3,4,1,2,3,4] //thrice element of a present\n",
        "\n",
        "#ADD DATA TO THE LIST\n",
        "a.append(5)\n",
        "a.insert(0,3) #inserting element 3 at index 0\n",
        "\n",
        "#DELETE\n",
        "a.remove(6) #delete first 6 from list\n",
        "a.pop(0)  #delete element from the list at index 0\n",
        "del a[4]  #delete element at posn 4 in the list\n",
        "\n",
        "#SORT\n",
        "a.sort() #elements must be of same type in list to use this\n",
        "max(a) #elements must be of same type in list to use this\n",
        "\n",
        "#To check particular element is there or not\n",
        "100 in a\n",
        "\n",
        "\n",
        "#TAKING INPUT IN LIST\n",
        "\n",
        "a = [2,3,7,5,1,4]\n",
        "\n",
        "for i in a:\n",
        "  print(i)\n",
        "\n",
        "\n",
        "#1st way\n",
        "size = int(input())\n",
        "ar = []\n",
        "for i in range(size):\n",
        "  input = int(input())\n",
        "  ar.append(input)\n",
        "print(ar)\n",
        "\n",
        "\n",
        "#2nd way\n",
        "l = input().split() #each element of list is string\n",
        "arr = []\n",
        "for a in l:\n",
        "  arr.append(int(a)) #converting each element in int from string\n",
        "#or\n",
        "\n",
        "l = input().split()\n",
        "ar = [int(s) for s in l] #for each element of list converting to int\n",
        "# and appending to ar\n",
        "\n",
        "#or\n",
        "\n",
        "ar = [int(s) for s in input().split()] #for each element of list converting to int\n",
        "# and appending to ar\n",
        "\n",
        "\n",
        "#EVENODD elements som of even and sum of odd difference\n",
        "\n",
        "#taking input\n",
        "l =[int(s) for s in input().split()]\n",
        "even = 0\n",
        "odd = 0\n",
        "for i in l:\n",
        "   if i % 2 == 0:\n",
        "     even += i\n",
        "   else:\n",
        "      odd += i\n",
        "print(even - odd)\n",
        "\n",
        "\n",
        "#SLICING IN LIST\n",
        "\n",
        "list = [1,2,3,4,\"abc\"]\n",
        "\n",
        "list[0:3] # outputs starting from 0 till 2 not including 3\n",
        "list[4:6] # outputs starts from 4 till 5\n",
        "\n",
        "list[3:] #outputs everything starting from 3\n",
        "\n",
        "list[10:3:-1] #as 10th index not present so by default it will assume last elementindex\n",
        "#it will traverse from end not beginning till 4\n",
        "list[:3:-1] # traverse till 4 from end as -1 is present\n",
        "\n",
        "list[::-1] #starts from end bcz of -1\n",
        "\n",
        "list.reverse() #reverse the list\n",
        "\n",
        "\n",
        "#MULTIDIMENSIONAL LIST\n",
        "\n",
        "arr = [[1,2,3],[4,5,6]]\n",
        "arr[0][2]\n",
        "\n",
        "len(arr) #length of 2D list\n",
        "len(arr[0]) #length of 1st 1D list\n",
        "\n",
        "#input in MULTIDIMENSIONAL LIST\n",
        "\n",
        "#Entering input as each row\n",
        "\"\"\"\n",
        "m,n\n",
        "1 2 3 4\n",
        "5 6 7 8\n",
        "9 10 11 12\n",
        "\"\"\"\n",
        "sizes = input().split()\n",
        "m = int(size[0])\n",
        "n = int(size[1])\n",
        "l = []\n",
        "for i in range(m):\n",
        "  next_Row = [int(i) for i in input().split()]\n",
        "  l.append(next_Row)\n",
        "\n",
        "\n",
        "#Entering input for list\n",
        "#m,n\n",
        "\"\"\"\n",
        "1\n",
        "2\n",
        "3\n",
        "4\n",
        "5\n",
        "6\n",
        "7\n",
        "\"\"\"\n",
        "sizes = input().split()\n",
        "m = int(size[0])\n",
        "n = int(size[1])\n",
        "l = []\n",
        "for i in range(m):\n",
        "  next_Row = []\n",
        "  for j in range(n):\n",
        "    element = int(input())\n",
        "    next_Row.append(element)\n",
        "  l.append(next_Row)\n",
        "l\n",
        "\n",
        "\n",
        "#Entering input for list\n",
        "#m,n\n",
        "\"\"\" 1,2,3,4,5,6,7,8,9,10 \"\"\" #input after that it will be created as list\n",
        "\n",
        "sizes = input().split()\n",
        "m = int(size[0])\n",
        "n = int(size[1])\n",
        "l_ld = [int(i) for i in input().split()]\n",
        "l = []\n",
        "for i in range(m):\n",
        "  start_Index = n * i\n",
        "  end_Index = n * (i+1)\n",
        "  next_row = l_ld[start_Index:end_Index]\n",
        "  l.append[next_row]\n",
        "l\n",
        "\n",
        "\n",
        "\n",
        "#MULTIDIMENSIONAL LIST\n",
        "arr = [[1,2,3],[4,5,6],[7,8,9]]\n",
        "arr[1:3] #gives list from 1 to 2\n",
        "\n",
        "\n"
      ],
      "metadata": {
        "id": "laad2QFNfuAl"
      },
      "execution_count": null,
      "outputs": []
    },
    {
      "cell_type": "markdown",
      "source": [
        "**FUNCTIONS**"
      ],
      "metadata": {
        "id": "IdMXABDhYpLh"
      }
    },
    {
      "cell_type": "code",
      "source": [
        "def factorial(n):\n",
        "    if n == 0:\n",
        "        return 1\n",
        "    else:\n",
        "        return n * factorial(n-1)\n",
        "\n",
        "# take input from user\n",
        "num = int(input(\"Enter a number: \"))\n",
        "\n",
        "# call factorial function\n",
        "result = factorial(num)\n",
        "\n",
        "# print result\n",
        "print(\"The factorial of\", num, \"is\", result)\n",
        "\n",
        "\n",
        "\n",
        "#SWAP ALTERNATE ELEMENTS IN LIST\n",
        "\n",
        "def swap_consecutive(lst):\n",
        "  i = 0\n",
        "  #if lst length is odd then last element will not be able to swap and leave it\n",
        "  #as it is\n",
        "  while i+1 < len(lst):\n",
        "    lst[i],lst[i+1] = lst[i+1],lst[i]  #swapping in python\n",
        "    i = i+2;\n",
        "\n",
        "lt = [1,2,4,7,3,5]\n",
        "swap_consecutive(lt)\n",
        "lt\n",
        "\n",
        "\n",
        "\n",
        "#Default parameters in function\n",
        "\n",
        "def f1(a,b,c,d=0):\n",
        "  return a+b+c+d\n",
        "\n",
        "#parameters are non default(a,b,c) then default args(d=0)"
      ],
      "metadata": {
        "colab": {
          "base_uri": "https://localhost:8080/"
        },
        "id": "k6LR2-fKcQK3",
        "outputId": "84ec4e16-7251-4599-8e7c-1be190d3b572"
      },
      "execution_count": null,
      "outputs": [
        {
          "output_type": "stream",
          "name": "stdout",
          "text": [
            "Enter a number: 7\n",
            "The factorial of 7 is 5040\n"
          ]
        },
        {
          "output_type": "execute_result",
          "data": {
            "text/plain": [
              "[2, 1, 7, 4, 5, 3]"
            ]
          },
          "metadata": {},
          "execution_count": 1
        }
      ]
    },
    {
      "cell_type": "markdown",
      "source": [
        " **TUPLES,DICTIONARY AND SETS**"
      ],
      "metadata": {
        "id": "1pAVSCFNlxT9"
      }
    },
    {
      "cell_type": "code",
      "source": [
        "#TUPLES\n",
        "\n",
        "#tuples are immutable and list are mutable\n",
        "\n",
        "c,d = 1,2\n",
        "\n",
        "b = (1,2) #tuples\n",
        "\n",
        "e = 1,2 #this will create tuple\n",
        "\n",
        "b[0] #access first element in tuple\n",
        "\n",
        "t = (1,2,3,4,5,6)\n",
        "t[3:] # from 3 to 6\n",
        "\n",
        "a = (1,2,3)\n",
        "b = 4,5\n",
        "\n",
        "c = a + b # c = concatenation of a and b\n",
        "\n",
        "d = (a,b) #((1,2,3),(4,5))\n",
        "\n",
        "f = b*4 #repeating tuple 4 times\n",
        "\n",
        "max(b) #find max among b\n",
        "\n",
        "#list to tuple\n",
        "\n",
        "l = [1,2,3,4]\n",
        "tuple(l)\n",
        "\n",
        "#VARIABLE INPUT AND OUTPUT\n",
        "\n",
        "def sum(a,b,*more)\n",
        "print(a)\n",
        "print(b)\n",
        "print(type(more)\n",
        "ans = a+b\n",
        "for i in more:\n",
        "      ans = ans + i\n",
        "    return ans\n",
        "\n",
        "sum(2,3,4,5)#sum is called so a = 2 b= 3 and remaining elements will form tuple\n",
        "\n",
        "\n",
        "#Returning more than one values\n",
        "def sum_diff(a,b)\n",
        "  return a+b,a-b\n",
        "\n",
        "c = sum_diff(4,1)\n",
        "d,e = sum_diff(4,1)\n",
        "print(d)\n",
        "print(e)\n",
        "\n",
        "\n",
        "#DICTIONARY (KEY,VALUE)\n",
        "\n",
        "a = {}\n",
        "type(a)\n",
        "b = {\"the\":2,\"a\":5,100:\"str\"}\n",
        "len(b) #length of dictionary\n",
        "c = dict([(\"the\",3),(\"a\",10),(2,3)])\n",
        "d = dict.fromkeys([\"abc\",32,4],10)  #    {abc:10,32:10,4:10}\n",
        "\n",
        "\n",
        "#ACCESSING LOOP ELEMENTS IN DICTIONARY\n",
        "a = {1:2,3:4,\"list\" : [1,2,3] , \"dict\" : {1:2}}\n",
        "a[0] # error\n",
        "a[1] #a[key]\n",
        "a[\"list\"] #or #if key not present return error\n",
        "a.get('list')   #if key not present return none\n",
        "a.keys() #get all keys\n",
        "a.items() #get all items\n",
        "\n",
        "#looping through key values pair\n",
        "for i in a.values\n",
        "      print(i)\n",
        "\n",
        "#adding value to tuple\n",
        "b['t'] = (1,2,3)\n",
        "\n",
        "#update data\n",
        "b[1] = 10\n",
        "\n",
        "#remove data\n",
        "del b[1]\n",
        "\n",
        "#deleting all keys\n",
        "b.clear()\n",
        "\n",
        "#deleting dictionary\n",
        "del a\n",
        "\n",
        "\n",
        "#PRINT ALL WORDS WITH FREQUENCY K\n",
        "st = \"this is a word string having many many word\"\n",
        "k = 2\n",
        "#split the string in words\n",
        "words = s.split()\n",
        "d = {}\n",
        "for w in words:\n",
        "      #for each word if its not present in dictionary then it will have value 1\n",
        "      #i.e first time visited other value will be incremented by 1 for that key(word)\n",
        "      if w in d:\n",
        "        d[w] = d[w] + 1\n",
        "      else:\n",
        "        d[w] = 1\n",
        "for w in d:\n",
        "      if d[w] == k:\n",
        "         print(w)\n",
        "#OR OTHER METHOD\n",
        "def printKFreqWords(s,k):\n",
        "  #split the string in words\n",
        "  words = s.split()\n",
        "  d = {}\n",
        "  for w in words:\n",
        "      #if dictionary have key w then return its value and increment by 1(if already having value for key w)\n",
        "      #otherwise key w not having value then return 0 and increment by 1(if not having value )\n",
        "      d[w] = d.get(w,0) + 1\n",
        "  for w in d:\n",
        "      if d[w] == k:\n",
        "         print(w)\n",
        "\n",
        "st = \"this is a word string having many many word\"\n",
        "k = 2\n",
        "printKFreqWords(s,k)"
      ],
      "metadata": {
        "id": "jvVmCuCz7xvA"
      },
      "execution_count": null,
      "outputs": []
    },
    {
      "cell_type": "markdown",
      "source": [
        "###SETS"
      ],
      "metadata": {
        "id": "jko6_Qmu4cCm"
      }
    },
    {
      "cell_type": "code",
      "source": [
        "\n",
        "#SET WILL NOT CONTAIN DUPLICATE\n",
        "\n",
        "\n",
        "s = {\"apple\",\"abc\",12} #unordered set\n",
        "len(s)\n",
        "s.add(\"temp\")\n",
        "b = {\"abc\",\"ghi\"}\n",
        "s.update(b)\n",
        "s.remove(\"temp\")\n",
        "s.discard(\"rrr\") #if element rrr is not present then discard will not give error\n",
        "#but remove will give error\n",
        "s.pop()\n",
        "\n",
        "\n",
        "#functions in sets\n",
        "s = {1,2,3,4}\n",
        "t = {3,4,5,6}\n",
        "\n",
        "s.intersection(t) #gives intersection\n",
        "s.union(t) #union\n",
        "s.difference(t) #present in s but not in t\n",
        "t.difference(s)\n",
        "s.symmetric_difference(t) #ignore the intersection part\n",
        "s.intersection_update(t)\n",
        "s.difference_update(t)\n",
        "s.symmetric_difference_update(t)\n",
        "\n",
        "#no union update\n",
        "\n",
        "#finding subset\n",
        "s.issubset(t)\n",
        "t.issubset(s)\n",
        "s.isdisjoint(b)  #disjoint means nothing common\n",
        "\n",
        "\n",
        "#SUM OF ALLUNIQUE NUMBERS IN THE LIST\n",
        "\n",
        "a = {1,2,3,1,3}\n",
        "len(a)\n",
        "#o/p = 3\n",
        "\n",
        "a.add(2) #as 2 is already present we get o/p  a = {1,2,3}\n",
        "\n",
        "s = {} # it will create dictionary not set\n",
        "\n",
        "def sumUnique(l):\n",
        "    #creating an empty set\n",
        "    s = set()\n",
        "    for i in l\n",
        "      #going through the list and adding element to the set\n",
        "      #set will not contain duplicate\n",
        "      s.add(i)\n",
        "    sum = 0\n",
        "    #adding all unique element of set\n",
        "    for i in s:\n",
        "      sum = sum + i\n",
        "    return sum\n",
        "sumUnique([1,2,3,4,4,3,4,3,2,1,3,5,5])\n",
        "\n"
      ],
      "metadata": {
        "id": "KcTo6I6j4fVj"
      },
      "execution_count": null,
      "outputs": []
    },
    {
      "cell_type": "markdown",
      "source": [
        "###OOPS - 1\n"
      ],
      "metadata": {
        "id": "z2GNyopBAGyj"
      }
    },
    {
      "cell_type": "code",
      "source": [
        "#CLASSES AND OBJECT\n",
        "\n",
        "#class is an template\n",
        "#object an instance of class -  will have functionalities and some attribute\n",
        "\n",
        "#creating a class and for class to be empty USING PASS\n",
        "class Student:\n",
        "    pass\n",
        "\n",
        "s1 = Student()\n",
        "print(s1)\n",
        "\n",
        "\n",
        "#ATTRIBUTES\n",
        "class Student:\n",
        "  #name = \" \"\n",
        "  #rollNumber = 12\n",
        "s1 = Student()\n",
        "s1.name = \"ABC\"\n",
        "\n",
        "s1.__dict__ #to check the what attribute s1 is having\n",
        "hasattr(s1,\"name\"). #hasattr(objectname,attributename) - used to check the attribute\n",
        "delattr(s1,\"name\") #deleting the attribute an object is having\n",
        "\n",
        "\n",
        "#Self parameter\n",
        "\n",
        "class Student:\n",
        "\n",
        "  def studentDetails(self) # self is assume here as an object\n",
        "    #Why self ?\n",
        "    #self.name is an instance attribute.it is accessible till s1 object is alive\n",
        "    #self.name - it is accessible throughout the class\n",
        "    self.name = \"Abc\"\n",
        "    print(\"Name = \",self.name)\n",
        "    percentage = 80 #it is local to function\n",
        "    pass\n",
        "s1 = Student()\n",
        "s1.studentDetails()\n",
        "Student.studentDetails(s1) #className.functionName(object_name)\n",
        "\n",
        "\n",
        "#STATIC METHOD\n",
        "class Student:\n",
        "\n",
        "  def studentDetails(self) # self is assume here as an object\n",
        "    #Why self ?\n",
        "    #self.name is an instance attribute.it is accessible till s1 object is alive\n",
        "    #self.name - it is accessible throughout the class\n",
        "    self.name = \"Abc\"\n",
        "    print(\"Name = \",self.name)\n",
        "    percentage = 80 #it is local to function\n",
        "    pass\n",
        "\n",
        "  @staticmethod #this function will now not need self.By default self will not passed\n",
        "  #static method is not related to object\n",
        "  def welcome():\n",
        "    print(\"welcome\")\n",
        "\n",
        "s1 = Student()\n",
        "s1.studentDetails()\n",
        "Student.studentDetails(s1) #className.functionName(object_name)\n",
        "\n",
        "\n",
        "#INIT METHOD\n",
        "\n",
        " #INIT GETS ARGS i.e OBJECT AND IT is PASSED AS SELF\n",
        " class Student:\n",
        "    def __init__(self,name,rollNumber):\n",
        "      self.name = name\n",
        "      self.rollNumber = rollNumber\n",
        "\n",
        "s1 = Student(\"xyz\",14)\n",
        "\n",
        "\n",
        "\n",
        "#CLASS METHOD\n",
        " #FactoryMethod means returning an object of a class\n",
        "\n",
        " #class method returns factorymethod\n",
        " \"\"\"\n",
        "A class method is a method that is bound to a class rather than its object.\n",
        " It doesn't require creation of a class instance, much like staticmethod.\n",
        "\n",
        "The difference between a static method and a class method is:\n",
        "\n",
        "Static method knows nothing about the class and just deals with the parameters\n",
        "Class method works with the class since its parameter is always the class itself.\n",
        "The class method can be called both by the class and its object.\n",
        " \"\"\"\n",
        " class MyClass:\n",
        "    def __init__(self, name):\n",
        "        self.name = name\n",
        "\n",
        "    @classmethod\n",
        "    def create_from_name(cls, name):\n",
        "        return cls(name)\n",
        "\n",
        "my_class = MyClass.create_from_name(\"John Doe\")\n",
        "print(my_class.name)\n",
        "\n",
        "\n",
        "\n",
        "#PUBLIC AND PRIVATE MEMBERS\n",
        "class MyClass:\n",
        "    def __init__(self):\n",
        "        self.public_member = \"Public\"\n",
        "        self.__private_member = \"Private\" #__ATTRIBUTENAME - PRIVATE VARIABLE\n",
        "\n",
        "    def get_private_member(self):\n",
        "        return self.__private_member\n",
        "\n",
        "S = MyClass()\n",
        "\n",
        "print(S.public_member)  # Output: Public\n",
        "print(S._MyClass__private_member)  # Output: Private (accessing private member through name mangling)\n",
        "print(S.get_private_member())  # Output: Private (accessing private member through getter method)\n"
      ],
      "metadata": {
        "id": "YOh-UJNaAOAC"
      },
      "execution_count": null,
      "outputs": []
    },
    {
      "cell_type": "markdown",
      "source": [
        "###OOPS-2"
      ],
      "metadata": {
        "id": "k16Jq5mnbTSt"
      }
    },
    {
      "cell_type": "code",
      "source": [
        "#INHERITANCE\n",
        "#POLYMORPHISM\n",
        "#PROTECTED MEMBERS (SINGLE UNDERSCORE) - _maxSpeed\n",
        "#OBJECT CLASS\n",
        "\n",
        "\"\"\"\n",
        "INHERTING properties from parent\n",
        "shape(color,filled)\n",
        "\n",
        "rectangle(color,filled,length,width)\n",
        "circle(color,filled,radius)\n",
        "\n",
        "properties - color,filled are common.rectangle,circle inherits properties from shape\n",
        " Avoid writing multiple times same code.So we are having common class (Parent Class)\n",
        "\n",
        " Parent(BASE CLASS) - Child(DERIVED CLASS) relationship\n",
        "\n",
        "\"\"\"\n",
        "\n",
        " #BASICS OF INHERITANCE\n",
        "\n",
        " class Vehicle:\n",
        "\n",
        "  def __init__(self,color,maxSpeed):\n",
        "    self.color = color\n",
        "    self.maxSpeed = maxSpeed\n",
        "\n",
        " class Car(Vehicle):\n",
        "    def __init__(self,color,maxSpeed,numGears,isConvertible):\n",
        "      #inheriting properties from class Vehicle\n",
        "      super().__init__(color,maxSpeed) #super is used to access the baseclass\n",
        "      self.numGears = numGears\n",
        "      self.isConvertible = isConvertible\n",
        "    def printCar(self):\n",
        "      print(\"Color :\" ,self.color)\n",
        "      print(\"MaxSpeed :\",self.maxSpeed)\n",
        "      print(\"NumGears :\",self.numGears)\n",
        "      print(\"IsConvertible :\",self.isConvertible)\n",
        "\n",
        "c = Car(\"red\",15,3,False)\n",
        "c.printCar()\n",
        "\n",
        "\n",
        "\n",
        "\n",
        "#INHERITANCE AND PRIVATE MEMBERS\n",
        "\"\"\"\n",
        "NOTE :\n",
        "GETTER AND SETTER ARE USED TO ACCESS PRIVATE MEMBERS\n",
        "\n",
        "\"\"\"\n",
        "class Vehicle:\n",
        "\n",
        "  def __init__(self,color,maxSpeed):\n",
        "    self.color = color\n",
        "    self.__maxSpeed = maxSpeed  #MAKING MAXSPEED AS PRIVATE MEMBERS\n",
        "\n",
        "  #getter\n",
        "  def getMaxSpeed():\n",
        "    return self.__maxSpeed\n",
        "\n",
        " #setter\n",
        " def setMaxSpeed():\n",
        "    self.__maxSpeed = maxSpeed\n",
        "\n",
        " class Car(Vehicle):\n",
        "    def __init__(self,color,maxSpeed,numGears,isConvertible):\n",
        "      #inheriting properties from class Vehicle\n",
        "      super().__init__(color,maxSpeed) #super is used to access the baseclass\n",
        "      self.numGears = numGears\n",
        "      self.isConvertible = isConvertible\n",
        "    def printCar(self):\n",
        "      print(\"Color :\" ,self.color)\n",
        "      #accessing private members using getter and accessing only through going to that particular class\n",
        "      print(\"MaxSpeed :\",self.getMaxSpeed())\n",
        "      print(\"NumGears :\",self.numGears)\n",
        "      print(\"IsConvertible :\",self.isConvertible)\n",
        "\n",
        "c = Car(\"red\",15,3,False)\n",
        "c.printCar()\n",
        "\n",
        "\n",
        "\n",
        "#Ex - 2\n",
        "class Vehicle:\n",
        "\n",
        "  def __init__(self,color,maxSpeed):\n",
        "    self.color = color\n",
        "    self.__maxSpeed = maxSpeed  #MAKING MAXSPEED AS PRIVATE MEMBERS\n",
        "\n",
        "  #getter\n",
        "  def getMaxSpeed():\n",
        "    return self.__maxSpeed\n",
        "\n",
        " #setter\n",
        "  def setMaxSpeed():\n",
        "    self.__maxSpeed = maxSpeed\n",
        "\n",
        "  def print(self):\n",
        "    print(\"Color :\",self.color)\n",
        "    print(\"maxSpeed :\",self.__maxSpeed)\n",
        "\n",
        " class Car(Vehicle):\n",
        "    def __init__(self,color,maxSpeed,numGears,isConvertible):\n",
        "      #inheriting properties from class Vehicle\n",
        "      super().__init__(color,maxSpeed) #super is used to access the baseclass\n",
        "      self.numGears = numGears\n",
        "      self.isConvertible = isConvertible\n",
        "    def printCar(self):\n",
        "      #super.print() will call print() of Vehicle\n",
        "      super.print() #or self.print() - as car inherits all properties of vehicle\n",
        "      print(\"IsConvertible :\",self.isConvertible)\n",
        "\n",
        "c = Car(\"red\",15,3,False)\n",
        "c.printCar()\n",
        "\n",
        "\n",
        "#POLYMORPHISM\n",
        "\"\"\"\n",
        "ABILITY TO TAKE MULTIPLE FORMS\n",
        "\"\"\"\n",
        "\n",
        "#METHOD OVERRIDING\n",
        "\"\"\"\n",
        "Method having same name so which will one will be executed first.\n",
        "\n",
        " Method will be executed of particular class first then of Parent Class if method is present in both.\n",
        " i.e Both Parent(Vehicle) and Child(Car) class is having print() but Car class print will be executed among both.\n",
        " If Child class (Car) doesnt have print() method then Parent(Vehicle) class having print() method will be run.\n",
        "\n",
        "\"\"\"\n",
        "class Vehicle:\n",
        "\n",
        "  def __init__(self,color,maxSpeed):\n",
        "    self.color = color\n",
        "    self.__maxSpeed = maxSpeed  #MAKING MAXSPEED AS PRIVATE MEMBERS\n",
        "\n",
        "  #getter\n",
        "  def getMaxSpeed():\n",
        "    return self.__maxSpeed\n",
        "\n",
        " #setter\n",
        "  def setMaxSpeed():\n",
        "    self.__maxSpeed = maxSpeed\n",
        "\n",
        "  def print(self):\n",
        "    print(\"Color :\",self.color)\n",
        "    print(\"maxSpeed :\",self.__maxSpeed)\n",
        "\n",
        " class Car(Vehicle):\n",
        "    def __init__(self,color,maxSpeed,numGears,isConvertible):\n",
        "      #inheriting properties from class Vehicle\n",
        "      super().__init__(color,maxSpeed) #super is used to access the baseclass\n",
        "      self.numGears = numGears\n",
        "      self.isConvertible = isConvertible\n",
        "    def print(self):\n",
        "     # super.print() #or self.print() - as car inherits all properties of vehicle\n",
        "      print(\"IsConvertible :\",self.isConvertible)\n",
        "\n",
        "c = Car(\"red\",15,3,False)\n",
        "c.printCar()\n",
        "\n",
        "\n",
        "\n",
        "#OBJECT CLASS\n",
        "\n",
        "#Every class inherits from objects class by default\n",
        "\"\"\"\n",
        "3 methods an object class give\n",
        "\n",
        "__new__ - used to create new objects\n",
        "__init__ - used to initialise the objects\n",
        "__str__ used to give description to class .We can override it.ye use karke class\n",
        "          kya karta hai woh desription likh sakte hai\n",
        "\n",
        "\"\"\"\n",
        "\n",
        "\n",
        "class Circle:\n",
        "  def __init__(self,radius):\n",
        "    self.__radius = radius\n",
        "\n",
        "  def __str__(self):\n",
        "    return \"This is a circle class which takes radius as an argument\"\n",
        "c = Circle(3)\n",
        "print(c)\n",
        "\n",
        "\n",
        "\n",
        "#MULTIPLE INHERITANCE\n",
        "\n",
        "\"\"\"Child class inherits from both baseClass1 and baseClass2.\n",
        " i.e eg child inherits from both mother and father.\n",
        "     eg honda inherits from both car and private\n",
        "\"\"\"\n",
        "\n",
        "class Mother:\n",
        "  def print(self):\n",
        "    print(\"print of mother called\")\n",
        "\n",
        "class Father:\n",
        "  def print(self):\n",
        "    print(\"print of father called\")\n",
        "\n",
        "class Child(Father,Mother):\n",
        "  def __init__(self,name):\n",
        "    self.name = name\n",
        "\n",
        "  def printChild(self):\n",
        "    print(\"Name of child is\",self.name)\n",
        "\n",
        " c = Child(\"XYZ\")\n",
        " c.print() #o/p - print of father is called\n",
        "\n",
        " #Child(Mother,Father) - for this order print of mother is called\n",
        "\n",
        "\n",
        "#OPERATOR OVERLOADING\n",
        "\n",
        "class Vector:\n",
        "\n",
        "  def __init__(self, x, y):\n",
        "    self.x = x\n",
        "    self.y = y\n",
        "\n",
        "  def __add__(self, other):\n",
        "    # This method gets called when we use + with Vector objects\n",
        "    return Vector(self.x + other.x, self.y + other.y)\n",
        "\n",
        "# Create Vector objects\n",
        "v1 = Vector(1, 2)\n",
        "v2 = Vector(3, 4)\n",
        "\n",
        "# Add vectors using the + operator\n",
        "v3 = v1 + v2\n",
        "\n",
        "print(v3.x, v3.y)  # Output: 4 6\n",
        "\"\"\"\n",
        "In this example, the __add__ method defines how vector addition should work.\n",
        "When we use v1 + v2, Python calls v1.__add__(v2),\n",
        "which performs the element-wise addition and returns a new Vector object.\n",
        "\"\"\""
      ],
      "metadata": {
        "id": "HQKk5JOVQPH-"
      },
      "execution_count": null,
      "outputs": []
    }
  ]
}